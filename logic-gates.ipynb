{
  "cells": [
    {
      "attachments": {},
      "cell_type": "markdown",
      "metadata": {},
      "source": [
        "# Logic gates"
      ]
    },
    {
      "attachments": {},
      "cell_type": "markdown",
      "metadata": {},
      "source": [
        "Quick implementation and visualisation of four basing logic gates using perceptron:\n",
        "\n",
        "* AND gate\n",
        "\n",
        "* NAND gate\n",
        "\n",
        "* OR gate\n",
        "\n",
        "* NOR gate"
      ]
    },
    {
      "cell_type": "markdown",
      "metadata": {},
      "source": [
        "## Imports"
      ]
    },
    {
      "cell_type": "code",
      "execution_count": 12,
      "metadata": {
        "id": "2RMdQa2ugiJR"
      },
      "outputs": [],
      "source": [
        "import numpy as np\n",
        "from matplotlib import pyplot as plt"
      ]
    },
    {
      "attachments": {},
      "cell_type": "markdown",
      "metadata": {
        "id": "ZQWPPI4z1NH1"
      },
      "source": [
        "## Class definition"
      ]
    },
    {
      "cell_type": "code",
      "execution_count": 23,
      "metadata": {
        "id": "F8C-xo5HguGD"
      },
      "outputs": [],
      "source": [
        "class Neuron:\n",
        "  \n",
        "  def __init__(self, input : list[int], weights : list[int],  T : int):\n",
        "    \n",
        "    self.input = np.array(input)\n",
        "    self.weights = np.array(weights)\n",
        "    self.T = T\n",
        "    \n",
        "  def forward(self) -> int:  \n",
        "    \"\"\"\n",
        "    Calculates output value of single neuron for defined input,\n",
        "    weight and treshold value using binary activation function.\n",
        "    \"\"\"\n",
        "    weighted_sum = sum(self.input * self.weights)\n",
        "    return 0 if weighted_sum < self.T else 1\n",
        "\n",
        "\n",
        "class LogicGate:\n",
        "  \n",
        "  def __init__(self, input : list[int]):\n",
        "    self.input = np.array(input)\n",
        "\n",
        "  def and_gate(self) -> int:\n",
        "    \"\"\"\n",
        "    Calculates output value for and gate. \n",
        "    \"\"\"\n",
        "    n1_val = Neuron(input = self.input,\n",
        "                    weights = [1, 1],\n",
        "                    T = 2).forward()\n",
        "    return n1_val\n",
        "  \n",
        "  def or_gate(self) -> int:   \n",
        "    \"\"\"\n",
        "    Calculates output value for or gate. \n",
        "    \"\"\"   \n",
        "    n1_val = Neuron(input = self.input,\n",
        "                    weights = [1, 1],\n",
        "                    T = 1).forward()\n",
        "    return n1_val\n",
        "\n",
        "  def nor_gate(self) -> int:\n",
        "    \"\"\"\n",
        "    Calculates output value for nor gate. \n",
        "    \"\"\"\n",
        "    n1_val = Neuron(input = self.input,\n",
        "                    weights = [1, 1],\n",
        "                    T = 1).forward()\n",
        "    \n",
        "    n2_val = Neuron(input = np.array([n1_val]),\n",
        "                    weights = [-1],\n",
        "                    T = 0).forward()\n",
        "    return n2_val\n",
        "\n",
        "  def nand_gate(self) -> int:\n",
        "    \"\"\"\n",
        "    Calculates output value for nand gate.\n",
        "    \"\"\"\n",
        "    n1_val = Neuron(input = self.input[0],\n",
        "                    weights = [-1],\n",
        "                    T = 0).forward()\n",
        "    \n",
        "    n2_val = Neuron(input = self.input[1],\n",
        "                    weights = [-1],\n",
        "                    T = 0).forward()\n",
        "    \n",
        "    n3_val = Neuron(input = [n1_val, n2_val],\n",
        "                    weights = [1,1],\n",
        "                    T = 1).forward()\n",
        "    return n3_val"
      ]
    },
    {
      "attachments": {},
      "cell_type": "markdown",
      "metadata": {
        "id": "knfzkOkQ1Xu6"
      },
      "source": [
        "## Demo"
      ]
    },
    {
      "cell_type": "code",
      "execution_count": 24,
      "metadata": {
        "id": "Y_t8NOMV4lYz"
      },
      "outputs": [],
      "source": [
        "t1 = np.array([1,0,1,0])\n",
        "t2 = np.array([1,1,0,0])"
      ]
    },
    {
      "cell_type": "code",
      "execution_count": 25,
      "metadata": {},
      "outputs": [
        {
          "data": {
            "text/plain": [
              "1"
            ]
          },
          "execution_count": 25,
          "metadata": {},
          "output_type": "execute_result"
        }
      ],
      "source": [
        "Neuron(input=[1,1], weights=[1,1], T = 1).forward()"
      ]
    },
    {
      "cell_type": "code",
      "execution_count": 26,
      "metadata": {},
      "outputs": [
        {
          "name": "stdout",
          "output_type": "stream",
          "text": [
            "AND gate results:\n",
            "input: 1, 1 -> and_gate: 1\n",
            "input: 0, 1 -> and_gate: 0\n",
            "input: 1, 0 -> and_gate: 0\n",
            "input: 0, 0 -> and_gate: 0\n",
            "---------------------------------------------------------------------------------------\n",
            "NAND gate results:\n",
            "input: 1, 1 -> nand_gate: 0\n",
            "input: 0, 1 -> nand_gate: 1\n",
            "input: 1, 0 -> nand_gate: 1\n",
            "input: 0, 0 -> nand_gate: 1\n",
            "---------------------------------------------------------------------------------------\n",
            "OR gate results:\n",
            "input: 1, 1 -> or_gate: 1\n",
            "input: 0, 1 -> or_gate: 1\n",
            "input: 1, 0 -> or_gate: 1\n",
            "input: 0, 0 -> or_gate: 0\n",
            "---------------------------------------------------------------------------------------\n",
            "NOR gate results:\n",
            "input: 1, 1 -> nor_gate: 0\n",
            "input: 0, 1 -> nor_gate: 0\n",
            "input: 1, 0 -> nor_gate: 0\n",
            "input: 0, 0 -> nor_gate: 1\n"
          ]
        }
      ],
      "source": [
        "print('AND gate results:')\n",
        "for x1, x2 in zip(t1, t2):\n",
        "    gate = LogicGate(np.array([x1, x2]))\n",
        "    print(f'input: {x1}, {x2} -> and_gate: {gate.and_gate()}')\n",
        "print('-' * 87)\n",
        "print('NAND gate results:')\n",
        "for x1, x2 in zip(t1, t2):\n",
        "    gate = LogicGate(np.array([x1, x2]))\n",
        "    print(f'input: {x1}, {x2} -> nand_gate: {gate.nand_gate()}')\n",
        "print('-' * 87)\n",
        "print('OR gate results:')\n",
        "for x1, x2 in zip(t1, t2):\n",
        "    gate = LogicGate(np.array([x1, x2]))\n",
        "    print(f'input: {x1}, {x2} -> or_gate: {gate.or_gate()}')\n",
        "print('-' * 87)\n",
        "print('NOR gate results:')\n",
        "for x1, x2 in zip(t1, t2):\n",
        "    gate = LogicGate(np.array([x1, x2]))\n",
        "    print(f'input: {x1}, {x2} -> nor_gate: {gate.nor_gate()}')"
      ]
    },
    {
      "attachments": {},
      "cell_type": "markdown",
      "metadata": {
        "id": "SwP4oWLj1hZ8"
      },
      "source": [
        "## Logic gates outcomes visualization"
      ]
    },
    {
      "cell_type": "code",
      "execution_count": 17,
      "metadata": {
        "id": "CC4JOcQtxV1F"
      },
      "outputs": [],
      "source": [
        "# create colors for points\n",
        "colors_nor, colors_or, colors_and, colors_nand = [], [], [], []\n",
        "for x1, x2 in zip(t1, t2):\n",
        "  res_or = LogicGate([x1, x2]).or_gate()\n",
        "  res_nor = LogicGate([x1, x2]).nor_gate()\n",
        "  res_and = LogicGate([x1, x2]).and_gate()\n",
        "  res_nand = LogicGate([x1, x2]).nand_gate()\n",
        "  colors_nor.append('g' if res_nor == 1 else 'r')\n",
        "  colors_or.append('g' if res_or == 1 else 'r')\n",
        "  colors_and.append('g' if res_and == 1 else 'r')\n",
        "  colors_nand.append('g' if res_nand == 1 else 'r')\n",
        "  "
      ]
    },
    {
      "cell_type": "code",
      "execution_count": 28,
      "metadata": {},
      "outputs": [
        {
          "name": "stderr",
          "output_type": "stream",
          "text": [
            "C:\\Users\\Wiktor\\AppData\\Local\\Temp\\ipykernel_12352\\3706977884.py:23: UserWarning: Matplotlib is currently using module://matplotlib_inline.backend_inline, which is a non-GUI backend, so cannot show the figure.\n",
            "  fig.show()\n"
          ]
        },
        {
          "data": {
            "image/png": "[encoded data removed]",
            "text/plain": [
              "<Figure size 1440x360 with 4 Axes>"
            ]
          },
          "metadata": {
            "needs_background": "light"
          },
          "output_type": "display_data"
        }
      ],
      "source": [
        "fig, ax = plt.subplots(1, 4, figsize = (20, 5))\n",
        "\n",
        "ax[0].scatter(t1, t2, c = colors_or, s = 150)\n",
        "ax[0].set_title('OR gate')\n",
        "ax[0].set_xticks((0, 1))\n",
        "ax[0].set_yticks((0, 1))\n",
        "\n",
        "ax[1].scatter(t1, t2, c = colors_nor, s = 150)\n",
        "ax[1].set_title('NOR gate')\n",
        "ax[1].set_xticks((0, 1))\n",
        "ax[1].set_yticks((0, 1))\n",
        "\n",
        "ax[2].scatter(t1, t2, c = colors_and, s = 150)\n",
        "ax[2].set_title('AND gate')\n",
        "ax[2].set_xticks((0, 1))\n",
        "ax[2].set_yticks((0, 1))\n",
        "\n",
        "ax[3].scatter(t1, t2, c = colors_nand, s = 150)\n",
        "ax[3].set_title('NAND gate')\n",
        "ax[3].set_xticks((0, 1))\n",
        "ax[3].set_yticks((0, 1))\n",
        "\n",
        "fig.show()"
      ]
    },
    {
      "cell_type": "code",
      "execution_count": 29,
      "metadata": {},
      "outputs": [],
      "source": [
        "fig.savefig('plot.jpg')"
      ]
    }
  ],
  "metadata": {
    "colab": {
      "provenance": []
    },
    "kernelspec": {
      "display_name": "Python 3",
      "language": "python",
      "name": "python3"
    },
    "language_info": {
      "codemirror_mode": {
        "name": "ipython",
        "version": 3
      },
      "file_extension": ".py",
      "mimetype": "text/x-python",
      "name": "python",
      "nbconvert_exporter": "python",
      "pygments_lexer": "ipython3",
      "version": "3.9.8"
    },
    "vscode": {
      "interpreter": {
        "hash": "2c67cc050ff297ceef87a99fd5d2683786ed1ee1c13b6ad8a6d19d2ab7b55240"
      }
    }
  },
  "nbformat": 4,
  "nbformat_minor": 0
}
